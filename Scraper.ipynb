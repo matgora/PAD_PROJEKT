{
 "cells": [
  {
   "cell_type": "code",
   "execution_count": 1,
   "id": "9439959a",
   "metadata": {},
   "outputs": [],
   "source": [
    "from selenium import webdriver\n",
    "import time\n",
    "from selenium.webdriver.common.by import By\n",
    "from selenium.webdriver.support.ui import WebDriverWait\n",
    "from selenium.webdriver.support import expected_conditions as EC"
   ]
  },
  {
   "cell_type": "code",
   "execution_count": 5,
   "id": "46c3d4f6",
   "metadata": {},
   "outputs": [],
   "source": [
    "driver = webdriver.Chrome()"
   ]
  },
  {
   "cell_type": "code",
   "execution_count": 6,
   "id": "0b92a15e",
   "metadata": {},
   "outputs": [],
   "source": [
    "driver.get('https://www.transfermarkt.com/wettbewerbe/europa')"
   ]
  },
  {
   "cell_type": "code",
   "execution_count": 7,
   "id": "9ed84597",
   "metadata": {},
   "outputs": [],
   "source": [
    "driver.maximize_window() # zwiekszamy wielkosc okna\n",
    "time.sleep(1)"
   ]
  },
  {
   "cell_type": "code",
   "execution_count": 8,
   "id": "32a54c79",
   "metadata": {},
   "outputs": [],
   "source": [
    "wait = WebDriverWait(driver,10)"
   ]
  },
  {
   "cell_type": "code",
   "execution_count": 9,
   "id": "8aecc54e",
   "metadata": {},
   "outputs": [],
   "source": [
    "wait.until(EC.frame_to_be_available_and_switch_to_it((By.XPATH,'//iframe[@title=\"SP Consent Message\"]')))\n",
    "wait.until(EC.element_to_be_clickable((By.XPATH,\"//button[contains(@title,'ACCEPT ALL')]\"))).click()"
   ]
  },
  {
   "cell_type": "code",
   "execution_count": 10,
   "id": "e5c45474",
   "metadata": {},
   "outputs": [
    {
     "data": {
      "text/plain": [
       "['Bosnia & Herzegovina',\n",
       " 'Croatia',\n",
       " 'Serbia',\n",
       " 'Slovenia',\n",
       " 'Hungary',\n",
       " 'Belgium',\n",
       " 'Luxembourg',\n",
       " 'Switzerland',\n",
       " 'Austria',\n",
       " 'Czech Republic',\n",
       " 'Poland',\n",
       " 'France',\n",
       " 'Netherlands',\n",
       " 'Romania',\n",
       " 'Germany',\n",
       " 'Portugal',\n",
       " 'Spain',\n",
       " 'Italy',\n",
       " 'Greece',\n",
       " 'Israel',\n",
       " 'Bulgaria',\n",
       " 'Ukraine',\n",
       " 'Türkiye',\n",
       " 'Russia',\n",
       " 'Denmark',\n",
       " 'Sweden',\n",
       " 'Northern Ireland',\n",
       " 'Ireland',\n",
       " 'England',\n",
       " 'Scotland',\n",
       " 'Iceland',\n",
       " 'Finland',\n",
       " 'Norway',\n",
       " 'Albania',\n",
       " 'Cyprus',\n",
       " 'Estonia',\n",
       " 'Belarus',\n",
       " 'Slovakia',\n",
       " 'Latvia',\n",
       " 'Lithuania',\n",
       " 'Wales',\n",
       " 'Georgia',\n",
       " 'Faroe Islands',\n",
       " 'Malta',\n",
       " 'Armenia',\n",
       " 'Azerbaijan',\n",
       " 'Moldova',\n",
       " 'Kazakhstan',\n",
       " 'Macedonia',\n",
       " 'Kosovo',\n",
       " 'Montenegro',\n",
       " 'Gibraltar',\n",
       " 'Liechtenstein',\n",
       " 'San Marino',\n",
       " 'Andorra']"
      ]
     },
     "execution_count": 10,
     "metadata": {},
     "output_type": "execute_result"
    }
   ],
   "source": [
    "country_map = wait.until(EC.element_to_be_clickable((By.XPATH,'//*[@id=\"europa_Map\"]')))\n",
    "countries = country_map.find_elements_by_tag_name('area')\n",
    "[country.get_attribute('title') for country in countries]"
   ]
  },
  {
   "cell_type": "code",
   "execution_count": 11,
   "id": "7d4d9e97",
   "metadata": {},
   "outputs": [],
   "source": [
    "country_dict = {country.get_attribute('title'): country.get_attribute('href') for country in countries}"
   ]
  },
  {
   "cell_type": "code",
   "execution_count": 12,
   "id": "e7b21b56",
   "metadata": {},
   "outputs": [],
   "source": [
    "country_driver = webdriver.Chrome()\n",
    "country_driver.get(country_dict['England'])"
   ]
  },
  {
   "cell_type": "code",
   "execution_count": 13,
   "id": "f8d1706d",
   "metadata": {},
   "outputs": [],
   "source": [
    "country_wait = WebDriverWait(country_driver,10)"
   ]
  },
  {
   "cell_type": "code",
   "execution_count": 14,
   "id": "c1acca5a",
   "metadata": {},
   "outputs": [],
   "source": [
    "country_wait.until(EC.frame_to_be_available_and_switch_to_it((By.XPATH,'//iframe[@title=\"SP Consent Message\"]')))\n",
    "country_wait.until(EC.element_to_be_clickable((By.XPATH,\"//button[contains(@title,'ACCEPT ALL')]\"))).click()"
   ]
  },
  {
   "cell_type": "code",
   "execution_count": 15,
   "id": "60d77dc9",
   "metadata": {},
   "outputs": [],
   "source": [
    "league = country_wait.until(EC.element_to_be_clickable((By.XPATH, '//*[@id=\"yw1\"]/table/tbody/tr[2]/td[1]/table/tbody/tr/td[2]/a')))\n",
    "country_driver.get(league.get_attribute('href'))"
   ]
  },
  {
   "cell_type": "code",
   "execution_count": 16,
   "id": "02e245b4",
   "metadata": {},
   "outputs": [
    {
     "data": {
      "text/plain": [
       "20"
      ]
     },
     "execution_count": 16,
     "metadata": {},
     "output_type": "execute_result"
    }
   ],
   "source": [
    "teams = country_driver.find_elements_by_xpath('//*[@id=\"yw1\"]/table/tbody/tr')\n",
    "len(teams)"
   ]
  },
  {
   "cell_type": "code",
   "execution_count": 17,
   "id": "db813e16",
   "metadata": {},
   "outputs": [
    {
     "data": {
      "text/plain": [
       "['',\n",
       " '',\n",
       " '',\n",
       " '',\n",
       " '',\n",
       " '',\n",
       " '',\n",
       " '',\n",
       " '',\n",
       " '',\n",
       " '',\n",
       " '',\n",
       " '',\n",
       " '',\n",
       " '',\n",
       " '',\n",
       " '',\n",
       " '',\n",
       " '',\n",
       " '']"
      ]
     },
     "execution_count": 17,
     "metadata": {},
     "output_type": "execute_result"
    }
   ],
   "source": [
    "[team.text for team in teams]"
   ]
  },
  {
   "cell_type": "code",
   "execution_count": 18,
   "id": "dc4585b1",
   "metadata": {},
   "outputs": [
    {
     "data": {
      "text/plain": [
       "['https://www.transfermarkt.com/manchester-city/kader/verein/281/saison_id/2021',\n",
       " 'https://www.transfermarkt.com/liverpool-fc/kader/verein/31/saison_id/2021',\n",
       " 'https://www.transfermarkt.com/chelsea-fc/kader/verein/631/saison_id/2021',\n",
       " 'https://www.transfermarkt.com/manchester-united/kader/verein/985/saison_id/2021',\n",
       " 'https://www.transfermarkt.com/tottenham-hotspur/kader/verein/148/saison_id/2021',\n",
       " 'https://www.transfermarkt.com/arsenal-fc/kader/verein/11/saison_id/2021',\n",
       " 'https://www.transfermarkt.com/leicester-city/kader/verein/1003/saison_id/2021',\n",
       " 'https://www.transfermarkt.com/aston-villa/kader/verein/405/saison_id/2021',\n",
       " 'https://www.transfermarkt.com/everton-fc/kader/verein/29/saison_id/2021',\n",
       " 'https://www.transfermarkt.com/west-ham-united/kader/verein/379/saison_id/2021',\n",
       " 'https://www.transfermarkt.com/wolverhampton-wanderers/kader/verein/543/saison_id/2021',\n",
       " 'https://www.transfermarkt.com/newcastle-united/kader/verein/762/saison_id/2021',\n",
       " 'https://www.transfermarkt.com/brighton-amp-hove-albion/kader/verein/1237/saison_id/2021',\n",
       " 'https://www.transfermarkt.com/leeds-united/kader/verein/399/saison_id/2021',\n",
       " 'https://www.transfermarkt.com/brentford-fc/kader/verein/1148/saison_id/2021',\n",
       " 'https://www.transfermarkt.com/southampton-fc/kader/verein/180/saison_id/2021',\n",
       " 'https://www.transfermarkt.com/crystal-palace/kader/verein/873/saison_id/2021',\n",
       " 'https://www.transfermarkt.com/watford-fc/kader/verein/1010/saison_id/2021',\n",
       " 'https://www.transfermarkt.com/norwich-city/kader/verein/1123/saison_id/2021',\n",
       " 'https://www.transfermarkt.com/burnley-fc/kader/verein/1132/saison_id/2021']"
      ]
     },
     "execution_count": 18,
     "metadata": {},
     "output_type": "execute_result"
    }
   ],
   "source": [
    "teams_link = [team.find_elements_by_tag_name('td')[2].find_elements_by_tag_name('a')[0].get_attribute('href') for team in teams]\n",
    "teams_link"
   ]
  },
  {
   "cell_type": "code",
   "execution_count": 19,
   "id": "8e34ab7a",
   "metadata": {},
   "outputs": [],
   "source": [
    "country_driver.get(teams_link[0])"
   ]
  },
  {
   "cell_type": "code",
   "execution_count": 20,
   "id": "23794aeb",
   "metadata": {},
   "outputs": [
    {
     "data": {
      "text/plain": [
       "22"
      ]
     },
     "execution_count": 20,
     "metadata": {},
     "output_type": "execute_result"
    }
   ],
   "source": [
    "players = country_driver.find_elements_by_xpath('//*[@id=\"yw1\"]/table/tbody/tr')\n",
    "len(players)"
   ]
  },
  {
   "cell_type": "code",
   "execution_count": 21,
   "id": "2153696c",
   "metadata": {},
   "outputs": [
    {
     "data": {
      "text/plain": [
       "['https://www.transfermarkt.com/ederson/profil/spieler/238223',\n",
       " 'https://www.transfermarkt.com/zack-steffen/profil/spieler/221624',\n",
       " 'https://www.transfermarkt.com/scott-carson/profil/spieler/14555',\n",
       " 'https://www.transfermarkt.com/ruben-dias/profil/spieler/258004',\n",
       " 'https://www.transfermarkt.com/aymeric-laporte/profil/spieler/176553',\n",
       " 'https://www.transfermarkt.com/john-stones/profil/spieler/186590',\n",
       " 'https://www.transfermarkt.com/nathan-ake/profil/spieler/177476',\n",
       " 'https://www.transfermarkt.com/oleksandr-zinchenko/profil/spieler/203853',\n",
       " 'https://www.transfermarkt.com/benjamin-mendy/profil/spieler/157495',\n",
       " 'https://www.transfermarkt.com/joao-cancelo/profil/spieler/182712',\n",
       " 'https://www.transfermarkt.com/kyle-walker/profil/spieler/95424',\n",
       " 'https://www.transfermarkt.com/rodri/profil/spieler/357565',\n",
       " 'https://www.transfermarkt.com/fernandinho/profil/spieler/26267',\n",
       " 'https://www.transfermarkt.com/phil-foden/profil/spieler/406635',\n",
       " 'https://www.transfermarkt.com/ilkay-gundogan/profil/spieler/53622',\n",
       " 'https://www.transfermarkt.com/kevin-de-bruyne/profil/spieler/88755',\n",
       " 'https://www.transfermarkt.com/bernardo-silva/profil/spieler/241641',\n",
       " 'https://www.transfermarkt.com/cole-palmer/profil/spieler/568177',\n",
       " 'https://www.transfermarkt.com/raheem-sterling/profil/spieler/134425',\n",
       " 'https://www.transfermarkt.com/jack-grealish/profil/spieler/203460',\n",
       " 'https://www.transfermarkt.com/riyad-mahrez/profil/spieler/171424',\n",
       " 'https://www.transfermarkt.com/gabriel-jesus/profil/spieler/363205']"
      ]
     },
     "execution_count": 21,
     "metadata": {},
     "output_type": "execute_result"
    }
   ],
   "source": [
    "players_link = [player.find_element_by_class_name('hauptlink').find_elements_by_tag_name('a')[0].get_attribute('href') for player in players]\n",
    "players_link"
   ]
  },
  {
   "cell_type": "code",
   "execution_count": 21,
   "id": "bbe074a8",
   "metadata": {},
   "outputs": [],
   "source": [
    "country_driver.get(players_link[0])"
   ]
  },
  {
   "cell_type": "code",
   "execution_count": 55,
   "id": "6d562bd1",
   "metadata": {},
   "outputs": [
    {
     "data": {
      "text/plain": [
       "'Full name:\\nEderson Santana de Moraes\\nDate of birth:\\nAug 17, 1993\\nPlace of birth:\\nOsasco (SP)  \\nAge:\\n28\\nHeight:\\n1,88 m\\nCitizenship:\\n  Brazil\\n  Portugal\\nPosition:\\nGoalkeeper\\nFoot:\\nleft\\nPlayer agent:\\nGestifute\\nCurrent club:\\nManchester City\\nJoined:\\nJul 1, 2017\\nContract expires:\\nJun 30, 2026\\nDate of last contract extension:\\nSep 1, 2021\\nOutfitter:\\nPuma\\nSocial-Media:'"
      ]
     },
     "execution_count": 55,
     "metadata": {},
     "output_type": "execute_result"
    }
   ],
   "source": [
    "player_data = country_driver.find_element_by_xpath('//*[@id=\"main\"]/main/div[3]/div[1]/div[2]/div/div[2]/div')\n",
    "player_data.text"
   ]
  },
  {
   "cell_type": "code",
   "execution_count": 56,
   "id": "cbcf4b38",
   "metadata": {},
   "outputs": [],
   "source": [
    "full_stats = country_driver.find_element_by_xpath('//*[@id=\"main\"]/main/div[3]/div[1]/div[6]/a').get_attribute('href')\n",
    "country_driver.get(full_stats)"
   ]
  },
  {
   "cell_type": "code",
   "execution_count": 57,
   "id": "b36005bc",
   "metadata": {},
   "outputs": [
    {
     "data": {
      "text/plain": [
       "'https://www.transfermarkt.com/ederson/leistungsdaten/spieler/238223/saison/2021/plus/1#gesamt'"
      ]
     },
     "execution_count": 57,
     "metadata": {},
     "output_type": "execute_result"
    }
   ],
   "source": [
    "detailed = country_driver.find_element_by_xpath('//*[@id=\"main\"]/main/div[3]/div[1]/div[2]/div[1]/a[2]').get_attribute('href')\n",
    "country_driver.get(detailed.replace('/2021/', '/2020/').replace('leistungsdaten', 'leistungsdatendetails'))\n",
    "detailed"
   ]
  },
  {
   "cell_type": "code",
   "execution_count": 64,
   "id": "7f007de2",
   "metadata": {},
   "outputs": [
    {
     "data": {
      "text/plain": [
       "\"competition\\nclub\\nSquad\\n  PPG\\n                    Total :   56 48 2.31 - - - - 3 - - 33 26 4.320'\\nChampions League 12 12 2.58 - - - - - - - 5 7 1.080'\\nPremier League 36 36 2.22 - - - - 3 - - 28 19 3.240'\\nEFL Cup 3 - - - - - - - - - - - -\\nFA Cup 5 - - - - - - - - - - - -\""
      ]
     },
     "execution_count": 64,
     "metadata": {},
     "output_type": "execute_result"
    }
   ],
   "source": [
    "stats = country_driver.find_element_by_xpath('//*[@id=\"yw1\"]/table')\n",
    "stats.text"
   ]
  },
  {
   "cell_type": "code",
   "execution_count": 65,
   "id": "d6f07ed6",
   "metadata": {},
   "outputs": [
    {
     "data": {
      "text/plain": [
       "['56', '48', '2.31', '-', '-', '-', '-', '3', '-', '-', '33', '26', \"4.320'\"]"
      ]
     },
     "execution_count": 65,
     "metadata": {},
     "output_type": "execute_result"
    }
   ],
   "source": [
    "stats = stats.text.split(\"\\n\")\n",
    "total = stats[4].split(':   ')[1].split(' ')\n",
    "total"
   ]
  },
  {
   "cell_type": "code",
   "execution_count": 66,
   "id": "f94f8021",
   "metadata": {},
   "outputs": [
    {
     "name": "stdout",
     "output_type": "stream",
     "text": [
      "12\n"
     ]
    }
   ],
   "source": [
    "if 'Champions League' in stats[5]:\n",
    "    print(stats[5].split(' ')[3])"
   ]
  },
  {
   "cell_type": "code",
   "execution_count": 31,
   "id": "2c8a758a",
   "metadata": {},
   "outputs": [],
   "source": [
    "country_driver.back()"
   ]
  },
  {
   "cell_type": "code",
   "execution_count": 34,
   "id": "23e75e16",
   "metadata": {},
   "outputs": [],
   "source": [
    "country_driver.back()"
   ]
  },
  {
   "cell_type": "code",
   "execution_count": 121,
   "id": "9f39051f",
   "metadata": {},
   "outputs": [],
   "source": [
    "country_driver.forward()"
   ]
  },
  {
   "cell_type": "code",
   "execution_count": 35,
   "id": "41595a4d",
   "metadata": {},
   "outputs": [],
   "source": [
    "market_value = country_driver.find_element_by_xpath('//*[@id=\"main\"]/main/div[3]/div[1]/div[2]/div/div[1]/div/div[2]/a').get_attribute('href')\n",
    "country_driver.get(market_value)"
   ]
  },
  {
   "cell_type": "code",
   "execution_count": 142,
   "id": "df3c0866",
   "metadata": {},
   "outputs": [
    {
     "data": {
      "text/plain": [
       "'Dec 23, 2021\\nMarket value: €50.00m\\nclub: Manchester City\\nAge : 28'"
      ]
     },
     "execution_count": 142,
     "metadata": {},
     "output_type": "execute_result"
    }
   ],
   "source": [
    "point0 = country_driver.find_element_by_xpath('//*[@id=\"highcharts-0\"]/div/span')\n",
    "point0.text"
   ]
  },
  {
   "cell_type": "code",
   "execution_count": null,
   "id": "96cdc025",
   "metadata": {},
   "outputs": [],
   "source": [
    "from selenium.webdriver.common.action_chains import ActionChains"
   ]
  },
  {
   "cell_type": "code",
   "execution_count": 36,
   "id": "921a9952",
   "metadata": {},
   "outputs": [
    {
     "data": {
      "text/plain": [
       "23"
      ]
     },
     "execution_count": 36,
     "metadata": {},
     "output_type": "execute_result"
    }
   ],
   "source": [
    "points = country_driver.find_elements_by_xpath('//*[@id=\"highcharts-0\"]/*[name()=\"svg\"]/*[name()=\"g\"][5]/*[name()=\"g\"][2]/*[name()=\"image\"]')\n",
    "len(points)"
   ]
  },
  {
   "cell_type": "code",
   "execution_count": 37,
   "id": "a687beda",
   "metadata": {},
   "outputs": [
    {
     "data": {
      "text/plain": [
       "['Apr 3, 2013\\nMarket value: €300Th.\\nclub: Rio Ave FC\\nAge : 19',\n",
       " 'Jul 2, 2013\\nMarket value: €300Th.\\nclub: Rio Ave FC\\nAge : 19',\n",
       " 'Jul 25, 2014\\nMarket value: €900Th.\\nclub: Rio Ave FC\\nAge : 20',\n",
       " 'Feb 17, 2015\\nMarket value: €600Th.\\nclub: Rio Ave FC\\nAge : 21',\n",
       " 'Jul 1, 2015\\nMarket value: €1.20m\\nclub: SL Benfica\\nAge : 21',\n",
       " 'Feb 24, 2016\\nMarket value: €1.20m\\nclub: SL Benfica\\nAge : 22',\n",
       " 'Jul 29, 2016\\nMarket value: €7.00m\\nclub: SL Benfica\\nAge : 22',\n",
       " 'Feb 22, 2017\\nMarket value: €12.00m\\nclub: SL Benfica\\nAge : 23',\n",
       " 'Jun 26, 2017\\nMarket value: €22.00m\\nclub: SL Benfica\\nAge : 23',\n",
       " 'Oct 23, 2017\\nMarket value: €25.00m\\nclub: Manchester City\\nAge : 24',\n",
       " 'Jan 2, 2018\\nMarket value: €35.00m\\nclub: Manchester City\\nAge : 24',\n",
       " 'Mar 23, 2018\\nMarket value: €45.00m\\nclub: Manchester City\\nAge : 24',\n",
       " 'May 28, 2018\\nMarket value: €50.00m\\nclub: Manchester City\\nAge : 24',\n",
       " 'Oct 17, 2018\\nMarket value: €60.00m\\nclub: Manchester City\\nAge : 25',\n",
       " 'Dec 19, 2018\\nMarket value: €60.00m\\nclub: Manchester City\\nAge : 25',\n",
       " 'Jun 13, 2019\\nMarket value: €70.00m\\nclub: Manchester City\\nAge : 25',\n",
       " 'Dec 10, 2019\\nMarket value: €70.00m\\nclub: Manchester City\\nAge : 26',\n",
       " 'Apr 8, 2020\\nMarket value: €56.00m\\nclub: Manchester City\\nAge : 26',\n",
       " 'Oct 13, 2020\\nMarket value: €56.00m\\nclub: Manchester City\\nAge : 27',\n",
       " 'Mar 18, 2021\\nMarket value: €56.00m\\nclub: Manchester City\\nAge : 27',\n",
       " 'Jun 8, 2021\\nMarket value: €50.00m\\nclub: Manchester City\\nAge : 27',\n",
       " 'Dec 23, 2021\\nMarket value: €50.00m\\nclub: Manchester City\\nAge : 28',\n",
       " 'Jun 15, 2022\\nMarket value: €45.00m\\nclub: Manchester City\\nAge : 28']"
      ]
     },
     "execution_count": 37,
     "metadata": {},
     "output_type": "execute_result"
    }
   ],
   "source": [
    "market_values = []\n",
    "points.reverse()\n",
    "for point in points:\n",
    "    point.click()\n",
    "    point0 = country_driver.find_element_by_xpath('//*[@id=\"highcharts-0\"]/div/span')\n",
    "    market_values.append(point0.text)\n",
    "market_values"
   ]
  },
  {
   "cell_type": "code",
   "execution_count": 147,
   "id": "130bdd04",
   "metadata": {},
   "outputs": [],
   "source": [
    "from selenium.webdriver.common.desired_capabilities import DesiredCapabilities\n",
    "def get_driver():\n",
    "    #caps = DesiredCapabilities().CHROME\n",
    "    #caps[\"pageLoadStrategy\"] = \"normal\"\n",
    "    driver = webdriver.Chrome()#desired_capabilities=caps)\n",
    "    return driver"
   ]
  },
  {
   "cell_type": "code",
   "execution_count": 171,
   "id": "49491f1b",
   "metadata": {},
   "outputs": [],
   "source": [
    "import re\n",
    "import ast\n",
    "gk_stats = ['Squad', 'Appearances', 'PPG', 'Goals', 'Assists', 'Sub on', 'Sub off', 'Yellow cards', 'Seccond Yellow Cards', 'Red cards', 'Goals conceded', 'Clean sheets', 'Minutes played']\n",
    "field_stats = ['Squad', 'Appearances', 'PPG', 'Goals', 'Assists', 'Own goals', 'Sub on', 'Sub off', 'Yellow cards', 'Seccond Yellow Cards', 'Red cards', 'Penalty goals', 'Minutes per goal', 'Minutes played']\n",
    "\n",
    "def get_player_stats(player_url, name, driver):\n",
    "    player = {}\n",
    "    driver.get(player_url)\n",
    "    player['Name'] = name\n",
    "    player_data = driver.find_elements_by_xpath('//*[@id=\"main\"]/main/div[3]/div[1]/div[2]/div/div[2]/div/span')\n",
    "    player_data = [data.text for data in player_data]\n",
    "    for key, value in zip(player_data[::2], player_data[1::2]):\n",
    "        player[key[:-1]] = value.strip()\n",
    "    full_stats = driver.find_element_by_xpath(\"//*[contains(text(),'View full stats')]\").get_attribute('href')\n",
    "    market_value = driver.find_element_by_xpath(\"//*[contains(text(),'Market value details')]\").get_attribute('href')\n",
    "    driver.get(full_stats.replace('leistungsdaten', 'leistungsdatendetails') + \"/saison/2020/plus/1\")\n",
    "    \n",
    "    stats = driver.find_element_by_xpath('//*[@id=\"yw1\"]/table')\n",
    "    stats = stats.text.split(\"\\n\")\n",
    "    total = stats[4].split(':   ')[1].split(' ')\n",
    "    if 'Champions League' in stats[5]:\n",
    "        player['CL Appearances'] = stats[5].split(' ')[3]\n",
    "    else:\n",
    "        player['CL Appearances'] = 0\n",
    "\n",
    "    if player['Position'] == 'Goalkeeper':\n",
    "        for key, value in zip(gk_stats, total):\n",
    "            player[key] = value\n",
    "    else:\n",
    "        for key, value in zip(field_stats, total):\n",
    "            player[key] = value\n",
    "\n",
    "    driver.get(market_value)\n",
    "    script = driver.find_element_by_xpath('/html/body/script[9]').get_attribute('innerHTML')\n",
    "    series = re.search(\"'series':(.*),'credits'\", script).group(1)\n",
    "    market_values = ast.literal_eval(series)\n",
    "    player['Market Values'] = market_values\n",
    "    return player"
   ]
  },
  {
   "cell_type": "code",
   "execution_count": 172,
   "id": "50a0ab41",
   "metadata": {},
   "outputs": [],
   "source": [
    "def accept_cookies(driver):\n",
    "    wait = WebDriverWait(driver,10)\n",
    "    wait.until(EC.frame_to_be_available_and_switch_to_it((By.XPATH,'//iframe[@title=\"SP Consent Message\"]')))\n",
    "    wait.until(EC.element_to_be_clickable((By.XPATH,\"//button[contains(@title,'ACCEPT ALL')]\"))).click()"
   ]
  },
  {
   "cell_type": "code",
   "execution_count": 200,
   "id": "011f43e8",
   "metadata": {},
   "outputs": [],
   "source": [
    "import pandas as pd\n",
    "\n",
    "def get_team(team_link, driver):\n",
    "    driver.get(team_link)\n",
    "    wait = WebDriverWait(driver,10)\n",
    "    players = wait.until(lambda d: d.find_elements_by_xpath('//*[@id=\"yw1\"]/table/tbody/tr'))\n",
    "    player_links = [player.find_element_by_class_name('hauptlink').find_elements_by_tag_name('a')[0] for player in players]\n",
    "    player_links = {player.text: player.get_attribute('href') for player in player_links}\n",
    "    players = []\n",
    "    team_name = team_link.split('/')[3]\n",
    "    print(team_name)\n",
    "    for name, player_link in list(player_links.items()):\n",
    "        try:\n",
    "            players.append(get_player_stats(player_link, name, driver))\n",
    "        except:\n",
    "            players.append({'Name': name})\n",
    "    \n",
    "    pd.DataFrame(players).to_csv(f\"{team_name}.tsv\", sep=\"\\t\", index=False)\n",
    "    return players\n",
    "\n",
    "def get_league(league_link, driver):\n",
    "    players = []\n",
    "    driver.get(league_link)\n",
    "    accept_cookies(driver)\n",
    "    teams = driver.find_elements_by_xpath('//*[@id=\"yw1\"]/table/tbody/tr')\n",
    "    team_links = [team.find_elements_by_tag_name('td')[2].find_elements_by_tag_name('a')[0].get_attribute('href') for team in teams]\n",
    "    for team_link in team_links:\n",
    "        try:\n",
    "            players += get_team(team_link, driver)\n",
    "        except:\n",
    "            continue\n",
    "    return players\n",
    "    \n",
    "def get_country(country_link, driver):\n",
    "    driver.get(country_link)\n",
    "    wait = WebDriverWait(driver,10)\n",
    "    league = wait.until(EC.element_to_be_clickable((By.XPATH, '//*[@id=\"yw1\"]/table/tbody/tr[2]/td[1]/table/tbody/tr/td[2]/a')))\n",
    "    players = get_league(league.get_attribute('href'), driver)\n",
    "    return players\n",
    "\n",
    "def get_all():\n",
    "    players = []\n",
    "    driver = get_driver()\n",
    "    driver.get('https://www.transfermarkt.com/wettbewerbe/europa')\n",
    "    accept_cookies(driver)\n",
    "    wait = WebDriverWait(driver,10)\n",
    "    country_map = wait.until(EC.element_to_be_clickable((By.XPATH,'//*[@id=\"europa_Map\"]')))\n",
    "    countries = country_map.find_elements_by_tag_name('area')\n",
    "    country_dict = {country.get_attribute('title'): country.get_attribute('href') for country in countries}\n",
    "    for key, value in country_dict.items():\n",
    "        print(key)\n",
    "        if key == 'Montenegro':\n",
    "            players += get_league(value, driver)\n",
    "        else:\n",
    "            players += get_country(value, driver)\n",
    "    driver.close()\n",
    "    return players"
   ]
  },
  {
   "cell_type": "code",
   "execution_count": 190,
   "id": "8cbb95e3",
   "metadata": {},
   "outputs": [
    {
     "name": "stdout",
     "output_type": "stream",
     "text": [
      "Bosnia & Herzegovina\n",
      "hsk-zrinjski-mostar\n",
      "fk-sarajevo\n",
      "fk-borac-banja-luka\n",
      "fk-tuzla-city\n",
      "fk-velez-mostar\n",
      "fk-zeljeznicar-sarajevo\n",
      "nk-siroki-brijeg\n",
      "fk-sloboda-tuzla\n",
      "hsk-posusje\n",
      "fk-leotar-trebinje\n",
      "fk-rudar-prijedor\n",
      "fk-radnik-bijeljina\n",
      "Croatia\n",
      "gnk-dinamo-zagreb\n",
      "hnk-hajduk-split\n",
      "nk-osijek\n",
      "hnk-rijeka\n",
      "nk-lokomotiva-zagreb\n",
      "hnk-gorica\n",
      "hnk-sibenik\n",
      "slaven-belupo-koprivnica\n",
      "nk-hrvatski-dragovoljac\n",
      "nk-istra-1961\n",
      "Serbia\n",
      "red-star-belgrade\n",
      "fk-partizan-belgrade\n",
      "fk-cukaricki\n",
      "fk-vojvodina-novi-sad\n",
      "fk-tsc-backa-topola\n",
      "fk-spartak-subotica\n",
      "fk-napredak-krusevac\n",
      "fk-radnik-surdulica\n",
      "fk-radnicki-nis\n",
      "fk-metalac-gornji-milanovac\n",
      "fk-vozdovac\n",
      "fk-kolubara-lazarevac\n",
      "fk-mladost-lucani\n",
      "fk-proleter-novi-sad\n",
      "fk-novi-pazar\n",
      "fk-radnicki-1923-kragujevac\n",
      "Slovenia\n",
      "nk-olimpija-ljubljana\n",
      "nk-maribor\n",
      "nk-celje\n",
      "ns-mura\n",
      "fc-koper\n",
      "nk-aluminij-kidricevo\n",
      "nk-domzale\n",
      "nk-bravo\n",
      "nk-tabor-sezana\n",
      "nk-radomlje\n",
      "Hungary\n",
      "ferencvarosi-tc\n",
      "mol-fehervar-fc\n",
      "puskas-akademia-fc\n",
      "budapest-honved-fc\n",
      "kisvarda-fc\n",
      "ujpest-fc\n",
      "debreceni-vsc\n",
      "mtk-budapest\n",
      "mez%C5%91kovesd-zsory-fc\n",
      "paksi-fc\n",
      "zalaegerszegi-te-fc\n",
      "gyirmot-fc-gy%C5%91r\n",
      "Belgium\n"
     ]
    },
    {
     "ename": "TimeoutException",
     "evalue": "Message: timeout: Timed out receiving message from renderer: 298.421\n  (Session info: chrome=102.0.5005.115)\n",
     "output_type": "error",
     "traceback": [
      "\u001b[0;31m---------------------------------------------------------------------------\u001b[0m",
      "\u001b[0;31mTimeoutException\u001b[0m                          Traceback (most recent call last)",
      "Input \u001b[0;32mIn [190]\u001b[0m, in \u001b[0;36m<cell line: 1>\u001b[0;34m()\u001b[0m\n\u001b[0;32m----> 1\u001b[0m players \u001b[38;5;241m=\u001b[39m \u001b[43mget_all\u001b[49m\u001b[43m(\u001b[49m\u001b[43m)\u001b[49m\n\u001b[1;32m      2\u001b[0m pd\u001b[38;5;241m.\u001b[39mDataFrame(players)\u001b[38;5;241m.\u001b[39mto_csv(\u001b[38;5;124m\"\u001b[39m\u001b[38;5;124mall.tsv\u001b[39m\u001b[38;5;124m\"\u001b[39m, sep\u001b[38;5;241m=\u001b[39m\u001b[38;5;124m\"\u001b[39m\u001b[38;5;130;01m\\t\u001b[39;00m\u001b[38;5;124m\"\u001b[39m, index\u001b[38;5;241m=\u001b[39m\u001b[38;5;28;01mFalse\u001b[39;00m)\n",
      "Input \u001b[0;32mIn [189]\u001b[0m, in \u001b[0;36mget_all\u001b[0;34m()\u001b[0m\n\u001b[1;32m     50\u001b[0m         players \u001b[38;5;241m+\u001b[39m\u001b[38;5;241m=\u001b[39m get_league(value, driver)\n\u001b[1;32m     51\u001b[0m     \u001b[38;5;28;01melse\u001b[39;00m:\n\u001b[0;32m---> 52\u001b[0m         players \u001b[38;5;241m+\u001b[39m\u001b[38;5;241m=\u001b[39m \u001b[43mget_country\u001b[49m\u001b[43m(\u001b[49m\u001b[43mvalue\u001b[49m\u001b[43m,\u001b[49m\u001b[43m \u001b[49m\u001b[43mdriver\u001b[49m\u001b[43m)\u001b[49m\n\u001b[1;32m     53\u001b[0m driver\u001b[38;5;241m.\u001b[39mclose()\n\u001b[1;32m     54\u001b[0m \u001b[38;5;28;01mreturn\u001b[39;00m players\n",
      "Input \u001b[0;32mIn [189]\u001b[0m, in \u001b[0;36mget_country\u001b[0;34m(country_link, driver)\u001b[0m\n\u001b[1;32m     33\u001b[0m wait \u001b[38;5;241m=\u001b[39m WebDriverWait(driver,\u001b[38;5;241m10\u001b[39m)\n\u001b[1;32m     34\u001b[0m league \u001b[38;5;241m=\u001b[39m wait\u001b[38;5;241m.\u001b[39muntil(EC\u001b[38;5;241m.\u001b[39melement_to_be_clickable((By\u001b[38;5;241m.\u001b[39mXPATH, \u001b[38;5;124m'\u001b[39m\u001b[38;5;124m//*[@id=\u001b[39m\u001b[38;5;124m\"\u001b[39m\u001b[38;5;124myw1\u001b[39m\u001b[38;5;124m\"\u001b[39m\u001b[38;5;124m]/table/tbody/tr[2]/td[1]/table/tbody/tr/td[2]/a\u001b[39m\u001b[38;5;124m'\u001b[39m)))\n\u001b[0;32m---> 35\u001b[0m players \u001b[38;5;241m=\u001b[39m \u001b[43mget_league\u001b[49m\u001b[43m(\u001b[49m\u001b[43mleague\u001b[49m\u001b[38;5;241;43m.\u001b[39;49m\u001b[43mget_attribute\u001b[49m\u001b[43m(\u001b[49m\u001b[38;5;124;43m'\u001b[39;49m\u001b[38;5;124;43mhref\u001b[39;49m\u001b[38;5;124;43m'\u001b[39;49m\u001b[43m)\u001b[49m\u001b[43m,\u001b[49m\u001b[43m \u001b[49m\u001b[43mdriver\u001b[49m\u001b[43m)\u001b[49m\n\u001b[1;32m     36\u001b[0m \u001b[38;5;28;01mreturn\u001b[39;00m players\n",
      "Input \u001b[0;32mIn [189]\u001b[0m, in \u001b[0;36mget_league\u001b[0;34m(league_link, driver)\u001b[0m\n\u001b[1;32m     26\u001b[0m team_links \u001b[38;5;241m=\u001b[39m [team\u001b[38;5;241m.\u001b[39mfind_elements_by_tag_name(\u001b[38;5;124m'\u001b[39m\u001b[38;5;124mtd\u001b[39m\u001b[38;5;124m'\u001b[39m)[\u001b[38;5;241m2\u001b[39m]\u001b[38;5;241m.\u001b[39mfind_elements_by_tag_name(\u001b[38;5;124m'\u001b[39m\u001b[38;5;124ma\u001b[39m\u001b[38;5;124m'\u001b[39m)[\u001b[38;5;241m0\u001b[39m]\u001b[38;5;241m.\u001b[39mget_attribute(\u001b[38;5;124m'\u001b[39m\u001b[38;5;124mhref\u001b[39m\u001b[38;5;124m'\u001b[39m) \u001b[38;5;28;01mfor\u001b[39;00m team \u001b[38;5;129;01min\u001b[39;00m teams]\n\u001b[1;32m     27\u001b[0m \u001b[38;5;28;01mfor\u001b[39;00m team_link \u001b[38;5;129;01min\u001b[39;00m team_links:\n\u001b[0;32m---> 28\u001b[0m     players \u001b[38;5;241m+\u001b[39m\u001b[38;5;241m=\u001b[39m \u001b[43mget_team\u001b[49m\u001b[43m(\u001b[49m\u001b[43mteam_link\u001b[49m\u001b[43m,\u001b[49m\u001b[43m \u001b[49m\u001b[43mdriver\u001b[49m\u001b[43m)\u001b[49m\n\u001b[1;32m     29\u001b[0m \u001b[38;5;28;01mreturn\u001b[39;00m players\n",
      "Input \u001b[0;32mIn [189]\u001b[0m, in \u001b[0;36mget_team\u001b[0;34m(team_link, driver)\u001b[0m\n\u001b[1;32m      3\u001b[0m \u001b[38;5;28;01mdef\u001b[39;00m \u001b[38;5;21mget_team\u001b[39m(team_link, driver):\n\u001b[0;32m----> 4\u001b[0m     \u001b[43mdriver\u001b[49m\u001b[38;5;241;43m.\u001b[39;49m\u001b[43mget\u001b[49m\u001b[43m(\u001b[49m\u001b[43mteam_link\u001b[49m\u001b[43m)\u001b[49m\n\u001b[1;32m      5\u001b[0m     wait \u001b[38;5;241m=\u001b[39m WebDriverWait(driver,\u001b[38;5;241m10\u001b[39m)\n\u001b[1;32m      6\u001b[0m     players \u001b[38;5;241m=\u001b[39m wait\u001b[38;5;241m.\u001b[39muntil(\u001b[38;5;28;01mlambda\u001b[39;00m d: d\u001b[38;5;241m.\u001b[39mfind_elements_by_xpath(\u001b[38;5;124m'\u001b[39m\u001b[38;5;124m//*[@id=\u001b[39m\u001b[38;5;124m\"\u001b[39m\u001b[38;5;124myw1\u001b[39m\u001b[38;5;124m\"\u001b[39m\u001b[38;5;124m]/table/tbody/tr\u001b[39m\u001b[38;5;124m'\u001b[39m))\n",
      "File \u001b[0;32m~/anaconda3/envs/py39/lib/python3.9/site-packages/selenium/webdriver/remote/webdriver.py:333\u001b[0m, in \u001b[0;36mWebDriver.get\u001b[0;34m(self, url)\u001b[0m\n\u001b[1;32m    329\u001b[0m \u001b[38;5;28;01mdef\u001b[39;00m \u001b[38;5;21mget\u001b[39m(\u001b[38;5;28mself\u001b[39m, url):\n\u001b[1;32m    330\u001b[0m     \u001b[38;5;124;03m\"\"\"\u001b[39;00m\n\u001b[1;32m    331\u001b[0m \u001b[38;5;124;03m    Loads a web page in the current browser session.\u001b[39;00m\n\u001b[1;32m    332\u001b[0m \u001b[38;5;124;03m    \"\"\"\u001b[39;00m\n\u001b[0;32m--> 333\u001b[0m     \u001b[38;5;28;43mself\u001b[39;49m\u001b[38;5;241;43m.\u001b[39;49m\u001b[43mexecute\u001b[49m\u001b[43m(\u001b[49m\u001b[43mCommand\u001b[49m\u001b[38;5;241;43m.\u001b[39;49m\u001b[43mGET\u001b[49m\u001b[43m,\u001b[49m\u001b[43m \u001b[49m\u001b[43m{\u001b[49m\u001b[38;5;124;43m'\u001b[39;49m\u001b[38;5;124;43murl\u001b[39;49m\u001b[38;5;124;43m'\u001b[39;49m\u001b[43m:\u001b[49m\u001b[43m \u001b[49m\u001b[43murl\u001b[49m\u001b[43m}\u001b[49m\u001b[43m)\u001b[49m\n",
      "File \u001b[0;32m~/anaconda3/envs/py39/lib/python3.9/site-packages/selenium/webdriver/remote/webdriver.py:321\u001b[0m, in \u001b[0;36mWebDriver.execute\u001b[0;34m(self, driver_command, params)\u001b[0m\n\u001b[1;32m    319\u001b[0m response \u001b[38;5;241m=\u001b[39m \u001b[38;5;28mself\u001b[39m\u001b[38;5;241m.\u001b[39mcommand_executor\u001b[38;5;241m.\u001b[39mexecute(driver_command, params)\n\u001b[1;32m    320\u001b[0m \u001b[38;5;28;01mif\u001b[39;00m response:\n\u001b[0;32m--> 321\u001b[0m     \u001b[38;5;28;43mself\u001b[39;49m\u001b[38;5;241;43m.\u001b[39;49m\u001b[43merror_handler\u001b[49m\u001b[38;5;241;43m.\u001b[39;49m\u001b[43mcheck_response\u001b[49m\u001b[43m(\u001b[49m\u001b[43mresponse\u001b[49m\u001b[43m)\u001b[49m\n\u001b[1;32m    322\u001b[0m     response[\u001b[38;5;124m'\u001b[39m\u001b[38;5;124mvalue\u001b[39m\u001b[38;5;124m'\u001b[39m] \u001b[38;5;241m=\u001b[39m \u001b[38;5;28mself\u001b[39m\u001b[38;5;241m.\u001b[39m_unwrap_value(\n\u001b[1;32m    323\u001b[0m         response\u001b[38;5;241m.\u001b[39mget(\u001b[38;5;124m'\u001b[39m\u001b[38;5;124mvalue\u001b[39m\u001b[38;5;124m'\u001b[39m, \u001b[38;5;28;01mNone\u001b[39;00m))\n\u001b[1;32m    324\u001b[0m     \u001b[38;5;28;01mreturn\u001b[39;00m response\n",
      "File \u001b[0;32m~/anaconda3/envs/py39/lib/python3.9/site-packages/selenium/webdriver/remote/errorhandler.py:242\u001b[0m, in \u001b[0;36mErrorHandler.check_response\u001b[0;34m(self, response)\u001b[0m\n\u001b[1;32m    240\u001b[0m         alert_text \u001b[38;5;241m=\u001b[39m value[\u001b[38;5;124m'\u001b[39m\u001b[38;5;124malert\u001b[39m\u001b[38;5;124m'\u001b[39m]\u001b[38;5;241m.\u001b[39mget(\u001b[38;5;124m'\u001b[39m\u001b[38;5;124mtext\u001b[39m\u001b[38;5;124m'\u001b[39m)\n\u001b[1;32m    241\u001b[0m     \u001b[38;5;28;01mraise\u001b[39;00m exception_class(message, screen, stacktrace, alert_text)\n\u001b[0;32m--> 242\u001b[0m \u001b[38;5;28;01mraise\u001b[39;00m exception_class(message, screen, stacktrace)\n",
      "\u001b[0;31mTimeoutException\u001b[0m: Message: timeout: Timed out receiving message from renderer: 298.421\n  (Session info: chrome=102.0.5005.115)\n"
     ]
    }
   ],
   "source": [
    "players = get_all()\n",
    "pd.DataFrame(players).to_csv(\"all.tsv\", sep=\"\\t\", index=False)"
   ]
  },
  {
   "cell_type": "code",
   "execution_count": 185,
   "id": "d0b27f7d",
   "metadata": {},
   "outputs": [
    {
     "data": {
      "text/plain": [
       "'fc-chelsea'"
      ]
     },
     "execution_count": 185,
     "metadata": {},
     "output_type": "execute_result"
    }
   ],
   "source": [
    "team_link = 'https://www.transfermarkt.com/fc-chelsea/kader/verein/631'\n",
    "team_link.split('/')[3]\n"
   ]
  },
  {
   "cell_type": "code",
   "execution_count": 201,
   "id": "c79ae7ee",
   "metadata": {},
   "outputs": [
    {
     "name": "stdout",
     "output_type": "stream",
     "text": [
      "Kazakhstan\n",
      "fc-astana\n",
      "tobol-kostanay\n",
      "kairat-almaty\n",
      "fk-aktobe\n",
      "fk-aksu\n",
      "fk-taraz\n",
      "shakhter-karaganda\n",
      "qyzyljar-petropavlovsk\n",
      "kaspiy-aktau\n",
      "fk-turan\n",
      "ordabasy-shymkent\n",
      "fk-atyrau\n",
      "fk-maktaaral\n",
      "akzhayik-uralsk\n",
      "Macedonia\n",
      "shkendija-tetovo\n",
      "fc-shkupi\n",
      "makedonija-gjorce-petrov\n",
      "akademija-pandev\n",
      "bregalnica-stip\n",
      "renova-dzepciste\n",
      "struga-trim-amp-lum\n",
      "rabotnicki-skopje\n",
      "borec-veles\n",
      "tikves-kavadarci\n",
      "fk-skopje\n",
      "pelister-bitola\n",
      "Kosovo\n",
      "fc-llapi\n",
      "kf-ballkani\n",
      "fc-drita-gjilan\n",
      "fc-prishtina\n",
      "sc-gjilani\n",
      "kf-drenica\n",
      "fc-malisheva\n",
      "kf-ulpiana\n",
      "kf-dukagjini\n",
      "kf-feronikeli-drenas\n",
      "Montenegro\n",
      "buducnost-podgorica\n",
      "fk-sutjeska-niksic\n",
      "fk-decic-tuzi\n",
      "fk-iskra-danilovgrad\n",
      "ofk-petrovac\n",
      "rudar-pljevlja\n",
      "fk-jezero\n",
      "fk-mornar-bar\n",
      "fk-podgorica\n",
      "fk-zeta-golubovac\n",
      "Gibraltar\n",
      "lincoln-red-imps-fc\n",
      "fc-brunos-magpies\n",
      "st-josephs-fc\n",
      "europa-fc\n",
      "glacis-united\n",
      "manchester-62-fc\n",
      "fc-college-1975\n",
      "mons-calpe-sc\n",
      "lynx-fc\n",
      "lions-gibraltar-fc\n",
      "europa-point-fc\n",
      "Liechtenstein\n",
      "San Marino\n",
      "la-fiorita-1967\n",
      "sp-tre-penne\n",
      "ac-libertas\n",
      "tre-fiori-fc\n",
      "ss-folgore-falciano\n",
      "ss-virtus\n",
      "ss-pennarossa\n",
      "ss-san-giovanni\n",
      "fc-domagnano\n",
      "fc-fiorentino\n",
      "ss-murata\n",
      "sc-faetano\n",
      "ac-juvenes-dogana\n",
      "sp-cailungo\n",
      "ss-cosmos\n",
      "Andorra\n",
      "fc-santa-coloma\n",
      "inter-club-descaldes\n",
      "atletic-club-descaldes\n",
      "ue-sant-julia\n",
      "ue-engordany\n",
      "ue-santa-coloma\n",
      "fc-ordino\n",
      "club-esportiu-carroi\n"
     ]
    }
   ],
   "source": [
    "players = []\n",
    "for key, value in list(country_dict.items())[-8:]:\n",
    "    print(key)\n",
    "    driver = get_driver()\n",
    "    if key == 'Montenegro':\n",
    "        players += get_league(value, driver)\n",
    "    else:\n",
    "        players += get_country(value, driver)\n",
    "    driver.close()"
   ]
  },
  {
   "cell_type": "code",
   "execution_count": 196,
   "id": "10b2a658",
   "metadata": {},
   "outputs": [
    {
     "data": {
      "text/plain": [
       "23"
      ]
     },
     "execution_count": 196,
     "metadata": {},
     "output_type": "execute_result"
    }
   ],
   "source": [
    "list(country_dict).index('Russia')"
   ]
  },
  {
   "cell_type": "code",
   "execution_count": 202,
   "id": "07d5b458",
   "metadata": {},
   "outputs": [],
   "source": [
    "def map_club_to_country(club_list):\n",
    "    driver = get_driver()\n",
    "    driver.get('https://www.transfermarkt.com/')\n",
    "    accept_cookies(driver)\n",
    "    club_country = {}\n",
    "    for club in club_list:\n",
    "        search = driver.find_elements_by_xpath('//*[@id=\"schnellsuche\"]/input')\n",
    "        search[0].clear()\n",
    "        search[0].send_keys(club)\n",
    "        search[1].click()\n",
    "        country = driver.find_element_by_xpath('//*[@id=\"yw0\"]/table/tbody/tr[1]/td[3]/img').get_attribute('title')\n",
    "        club_country[club] = country\n",
    "    return club_country"
   ]
  },
  {
   "cell_type": "code",
   "execution_count": 203,
   "id": "dce26bf7",
   "metadata": {},
   "outputs": [],
   "source": [
    "driver = get_driver()\n",
    "driver.get('https://www.transfermarkt.com/')\n",
    "accept_cookies(driver)"
   ]
  },
  {
   "cell_type": "code",
   "execution_count": 204,
   "id": "a4618d64",
   "metadata": {},
   "outputs": [],
   "source": [
    "search = driver.find_elements_by_xpath('//*[@id=\"schnellsuche\"]/input')\n",
    "search[0].send_keys('Paris Saint-Germain')\n",
    "search[1].click()"
   ]
  },
  {
   "cell_type": "code",
   "execution_count": 206,
   "id": "bdb67c8e",
   "metadata": {},
   "outputs": [],
   "source": [
    "search = driver.find_elements_by_xpath('//*[@id=\"schnellsuche\"]/input')\n",
    "search[0].clear()\n",
    "search[0].send_keys('Chelsea FC')\n",
    "search[1].click()"
   ]
  },
  {
   "cell_type": "code",
   "execution_count": 207,
   "id": "63469c6f",
   "metadata": {},
   "outputs": [
    {
     "data": {
      "text/plain": [
       "'England'"
      ]
     },
     "execution_count": 207,
     "metadata": {},
     "output_type": "execute_result"
    }
   ],
   "source": [
    "country = driver.find_element_by_xpath('//*[@id=\"yw0\"]/table/tbody/tr[1]/td[3]/img').get_attribute('title')\n",
    "country"
   ]
  },
  {
   "cell_type": "code",
   "execution_count": 213,
   "id": "937d6439",
   "metadata": {},
   "outputs": [],
   "source": [
    "def get_first_league_clubs2020():\n",
    "    club_country = {}\n",
    "    country_ranking = {}\n",
    "    driver = get_driver()\n",
    "    driver.get('https://www.transfermarkt.com/wettbewerbe/europa')\n",
    "    accept_cookies(driver)\n",
    "    wait = WebDriverWait(driver,10)\n",
    "    country_map = wait.until(EC.element_to_be_clickable((By.XPATH,'//*[@id=\"europa_Map\"]')))\n",
    "    countries = country_map.find_elements_by_tag_name('area')\n",
    "    country_dict = {country.get_attribute('title'): country.get_attribute('href') for country in countries}\n",
    "    for key, value in list(country_dict.items()):\n",
    "        print(key)\n",
    "        if key != 'Montenegro':\n",
    "            driver.get(value)\n",
    "            league = wait.until(EC.element_to_be_clickable((By.XPATH, '//*[@id=\"yw1\"]/table/tbody/tr[2]/td[1]/table/tbody/tr/td[2]/a')))\n",
    "            league_link = league.get_attribute('href')\n",
    "        else:\n",
    "            league_link = value\n",
    "        driver.get(league_link + '/plus/?saison_id=2020')\n",
    "        teams = driver.find_elements_by_xpath('//*[@id=\"yw1\"]/table/tbody/tr')\n",
    "        team_names = [team.find_elements_by_tag_name('td')[1].find_elements_by_tag_name('a')[0].text for team in teams]\n",
    "        ranking = driver.find_elements_by_xpath('//*[@id=\"wettbewerb_head\"]/div/div/div[2]/div[2]/div[2]/table/tbody/tr[1]/td/a').text\n",
    "        for name in team_names:\n",
    "            club_country[name] = key\n",
    "        country_ranking[key] = ranking\n",
    "    return [club_country, country_ranking]"
   ]
  },
  {
   "cell_type": "code",
   "execution_count": null,
   "id": "8b7013b1",
   "metadata": {},
   "outputs": [],
   "source": [
    "club_country, country_ranking = get_first_league_clubs2020()\n",
    "club_country"
   ]
  },
  {
   "cell_type": "code",
   "execution_count": null,
   "id": "c153f2fa",
   "metadata": {},
   "outputs": [],
   "source": [
    "result_df = pd.DataFrame(club_country.items())\n",
    "result_df.to_csv('clubs.tsv', sep='\\t', index=False, header=False)"
   ]
  }
 ],
 "metadata": {
  "kernelspec": {
   "display_name": "Python 3 (ipykernel)",
   "language": "python",
   "name": "python3"
  },
  "language_info": {
   "codemirror_mode": {
    "name": "ipython",
    "version": 3
   },
   "file_extension": ".py",
   "mimetype": "text/x-python",
   "name": "python",
   "nbconvert_exporter": "python",
   "pygments_lexer": "ipython3",
   "version": "3.9.11"
  }
 },
 "nbformat": 4,
 "nbformat_minor": 5
}
